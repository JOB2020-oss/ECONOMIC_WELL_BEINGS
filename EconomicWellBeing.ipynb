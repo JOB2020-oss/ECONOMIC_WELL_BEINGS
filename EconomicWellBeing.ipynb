{
 "cells": [
  {
   "cell_type": "code",
   "execution_count": 1,
   "id": "f76654aa",
   "metadata": {},
   "outputs": [
    {
     "name": "stdout",
     "output_type": "stream",
     "text": [
      "Imported featurewiz. Version = 0.1.05. nrows=None uses all rows. Set nrows=1000 to randomly sample 1000 rows.\n",
      "outputs = featurewiz(dataname, target, corr_limit=0.70, verbose=2, sep=',', \n",
      "\t\theader=0, test_data='',feature_engg='', category_encoders='',\n",
      "\t\tdask_xgboost_flag=False, nrows=None)\n",
      "Create new features via 'feature_engg' flag : ['interactions','groupby','target']\n",
      "                                \n"
     ]
    }
   ],
   "source": [
    "import pandas as pd\n",
    "import numpy as np\n",
    "import matplotlib.pyplot as plt\n",
    "import warnings\n",
    "warnings.filterwarnings(\"ignore\")\n",
    "import seaborn as sns\n",
    "pd.set_option(\"display.max_rows\",None)\n",
    "pd.set_option(\"display.max_columns\",None)\n",
    "from featurewiz import featurewiz\n",
    "from tqdm import tqdm\n",
    "import math"
   ]
  },
  {
   "cell_type": "markdown",
   "id": "6c24a99b",
   "metadata": {},
   "source": [
    "## LOADING OF DATA"
   ]
  },
  {
   "cell_type": "code",
   "execution_count": 3,
   "id": "59a16554",
   "metadata": {
    "scrolled": false
   },
   "outputs": [],
   "source": [
    "train = pd.read_csv(\"Train.csv\")\n",
    "test = pd.read_csv(\"Test.csv\")\n",
    "ID = test[\"ID\"]"
   ]
  },
  {
   "cell_type": "code",
   "execution_count": 4,
   "id": "f1f8ace9",
   "metadata": {},
   "outputs": [
    {
     "data": {
      "text/html": [
       "<div>\n",
       "<style scoped>\n",
       "    .dataframe tbody tr th:only-of-type {\n",
       "        vertical-align: middle;\n",
       "    }\n",
       "\n",
       "    .dataframe tbody tr th {\n",
       "        vertical-align: top;\n",
       "    }\n",
       "\n",
       "    .dataframe thead th {\n",
       "        text-align: right;\n",
       "    }\n",
       "</style>\n",
       "<table border=\"1\" class=\"dataframe\">\n",
       "  <thead>\n",
       "    <tr style=\"text-align: right;\">\n",
       "      <th></th>\n",
       "      <th>ID</th>\n",
       "      <th>country</th>\n",
       "      <th>year</th>\n",
       "      <th>urban_or_rural</th>\n",
       "      <th>ghsl_water_surface</th>\n",
       "      <th>ghsl_built_pre_1975</th>\n",
       "      <th>ghsl_built_1975_to_1990</th>\n",
       "      <th>ghsl_built_1990_to_2000</th>\n",
       "      <th>ghsl_built_2000_to_2014</th>\n",
       "      <th>ghsl_not_built_up</th>\n",
       "      <th>ghsl_pop_density</th>\n",
       "      <th>landcover_crops_fraction</th>\n",
       "      <th>landcover_urban_fraction</th>\n",
       "      <th>landcover_water_permanent_10km_fraction</th>\n",
       "      <th>landcover_water_seasonal_10km_fraction</th>\n",
       "      <th>nighttime_lights</th>\n",
       "      <th>dist_to_capital</th>\n",
       "      <th>dist_to_shoreline</th>\n",
       "      <th>Target</th>\n",
       "    </tr>\n",
       "  </thead>\n",
       "  <tbody>\n",
       "    <tr>\n",
       "      <th>0</th>\n",
       "      <td>ID_AAIethGy</td>\n",
       "      <td>Ethiopia</td>\n",
       "      <td>2016</td>\n",
       "      <td>R</td>\n",
       "      <td>0.0</td>\n",
       "      <td>0.000000</td>\n",
       "      <td>0.000000</td>\n",
       "      <td>0.000055</td>\n",
       "      <td>0.000536</td>\n",
       "      <td>0.999408</td>\n",
       "      <td>12.146134</td>\n",
       "      <td>25.489659</td>\n",
       "      <td>0.879484</td>\n",
       "      <td>0.000000</td>\n",
       "      <td>0.000000</td>\n",
       "      <td>0.000000</td>\n",
       "      <td>278.788451</td>\n",
       "      <td>769.338378</td>\n",
       "      <td>0.132783</td>\n",
       "    </tr>\n",
       "    <tr>\n",
       "      <th>1</th>\n",
       "      <td>ID_AAYiaCeL</td>\n",
       "      <td>Ethiopia</td>\n",
       "      <td>2005</td>\n",
       "      <td>R</td>\n",
       "      <td>0.0</td>\n",
       "      <td>0.000000</td>\n",
       "      <td>0.000110</td>\n",
       "      <td>0.000000</td>\n",
       "      <td>0.000018</td>\n",
       "      <td>0.999872</td>\n",
       "      <td>113.806716</td>\n",
       "      <td>64.136053</td>\n",
       "      <td>0.601427</td>\n",
       "      <td>0.000000</td>\n",
       "      <td>0.005427</td>\n",
       "      <td>0.000000</td>\n",
       "      <td>200.986978</td>\n",
       "      <td>337.135243</td>\n",
       "      <td>0.004898</td>\n",
       "    </tr>\n",
       "    <tr>\n",
       "      <th>2</th>\n",
       "      <td>ID_AAdurmKj</td>\n",
       "      <td>Mozambique</td>\n",
       "      <td>2009</td>\n",
       "      <td>R</td>\n",
       "      <td>0.0</td>\n",
       "      <td>0.000000</td>\n",
       "      <td>0.000000</td>\n",
       "      <td>0.000000</td>\n",
       "      <td>0.000000</td>\n",
       "      <td>1.000000</td>\n",
       "      <td>0.000000</td>\n",
       "      <td>4.400096</td>\n",
       "      <td>0.131900</td>\n",
       "      <td>0.000000</td>\n",
       "      <td>0.003078</td>\n",
       "      <td>0.000000</td>\n",
       "      <td>642.594208</td>\n",
       "      <td>169.913773</td>\n",
       "      <td>0.097320</td>\n",
       "    </tr>\n",
       "    <tr>\n",
       "      <th>3</th>\n",
       "      <td>ID_AAgNHles</td>\n",
       "      <td>Malawi</td>\n",
       "      <td>2015</td>\n",
       "      <td>R</td>\n",
       "      <td>0.0</td>\n",
       "      <td>0.000141</td>\n",
       "      <td>0.000181</td>\n",
       "      <td>0.000254</td>\n",
       "      <td>0.000228</td>\n",
       "      <td>0.999195</td>\n",
       "      <td>5.213320</td>\n",
       "      <td>25.379371</td>\n",
       "      <td>2.017136</td>\n",
       "      <td>11.293841</td>\n",
       "      <td>0.131035</td>\n",
       "      <td>0.000000</td>\n",
       "      <td>365.349451</td>\n",
       "      <td>613.591610</td>\n",
       "      <td>0.304107</td>\n",
       "    </tr>\n",
       "    <tr>\n",
       "      <th>4</th>\n",
       "      <td>ID_AAishfND</td>\n",
       "      <td>Guinea</td>\n",
       "      <td>2012</td>\n",
       "      <td>U</td>\n",
       "      <td>0.0</td>\n",
       "      <td>0.011649</td>\n",
       "      <td>0.017560</td>\n",
       "      <td>0.017383</td>\n",
       "      <td>0.099875</td>\n",
       "      <td>0.853533</td>\n",
       "      <td>31.734661</td>\n",
       "      <td>5.081620</td>\n",
       "      <td>22.815984</td>\n",
       "      <td>0.005047</td>\n",
       "      <td>0.130475</td>\n",
       "      <td>1.461894</td>\n",
       "      <td>222.867189</td>\n",
       "      <td>192.926363</td>\n",
       "      <td>0.605328</td>\n",
       "    </tr>\n",
       "  </tbody>\n",
       "</table>\n",
       "</div>"
      ],
      "text/plain": [
       "            ID     country  year urban_or_rural  ghsl_water_surface  \\\n",
       "0  ID_AAIethGy    Ethiopia  2016              R                 0.0   \n",
       "1  ID_AAYiaCeL    Ethiopia  2005              R                 0.0   \n",
       "2  ID_AAdurmKj  Mozambique  2009              R                 0.0   \n",
       "3  ID_AAgNHles      Malawi  2015              R                 0.0   \n",
       "4  ID_AAishfND      Guinea  2012              U                 0.0   \n",
       "\n",
       "   ghsl_built_pre_1975  ghsl_built_1975_to_1990  ghsl_built_1990_to_2000  \\\n",
       "0             0.000000                 0.000000                 0.000055   \n",
       "1             0.000000                 0.000110                 0.000000   \n",
       "2             0.000000                 0.000000                 0.000000   \n",
       "3             0.000141                 0.000181                 0.000254   \n",
       "4             0.011649                 0.017560                 0.017383   \n",
       "\n",
       "   ghsl_built_2000_to_2014  ghsl_not_built_up  ghsl_pop_density  \\\n",
       "0                 0.000536           0.999408         12.146134   \n",
       "1                 0.000018           0.999872        113.806716   \n",
       "2                 0.000000           1.000000          0.000000   \n",
       "3                 0.000228           0.999195          5.213320   \n",
       "4                 0.099875           0.853533         31.734661   \n",
       "\n",
       "   landcover_crops_fraction  landcover_urban_fraction  \\\n",
       "0                 25.489659                  0.879484   \n",
       "1                 64.136053                  0.601427   \n",
       "2                  4.400096                  0.131900   \n",
       "3                 25.379371                  2.017136   \n",
       "4                  5.081620                 22.815984   \n",
       "\n",
       "   landcover_water_permanent_10km_fraction  \\\n",
       "0                                 0.000000   \n",
       "1                                 0.000000   \n",
       "2                                 0.000000   \n",
       "3                                11.293841   \n",
       "4                                 0.005047   \n",
       "\n",
       "   landcover_water_seasonal_10km_fraction  nighttime_lights  dist_to_capital  \\\n",
       "0                                0.000000          0.000000       278.788451   \n",
       "1                                0.005427          0.000000       200.986978   \n",
       "2                                0.003078          0.000000       642.594208   \n",
       "3                                0.131035          0.000000       365.349451   \n",
       "4                                0.130475          1.461894       222.867189   \n",
       "\n",
       "   dist_to_shoreline    Target  \n",
       "0         769.338378  0.132783  \n",
       "1         337.135243  0.004898  \n",
       "2         169.913773  0.097320  \n",
       "3         613.591610  0.304107  \n",
       "4         192.926363  0.605328  "
      ]
     },
     "execution_count": 4,
     "metadata": {},
     "output_type": "execute_result"
    }
   ],
   "source": [
    "train.head()"
   ]
  },
  {
   "cell_type": "code",
   "execution_count": 5,
   "id": "4880e5c8",
   "metadata": {},
   "outputs": [],
   "source": [
    "X = train.drop([\"ID\",\"Target\"],axis=1)\n",
    "y = train[\"Target\"]\n",
    "test = test.drop(\"ID\",axis=1)"
   ]
  },
  {
   "cell_type": "code",
   "execution_count": 6,
   "id": "3db9c407",
   "metadata": {},
   "outputs": [],
   "source": [
    "scale 1.ghsl_pop_density,2.landcover_crops_fraction,3.landcover_urban_fraction\n",
    "4.landcover_water_permanent_10km_fraction 5.landcover_water_seasonal_10km_fraction\n",
    "6.nighttime_lights 7.dist_to_capital 8.dist_to_shoreline 9.landcover_water_permanent_10km_fraction"
   ]
  },
  {
   "cell_type": "code",
   "execution_count": 7,
   "id": "2002372a",
   "metadata": {},
   "outputs": [],
   "source": [
    "scale = train[[\"year\",\"ghsl_pop_density\",\"landcover_crops_fraction\",\"landcover_urban_fraction\",\"landcover_water_permanent_10km_fraction\",\"landcover_water_seasonal_10km_fraction\",\"nighttime_lights\",\"dist_to_capital\",\"dist_to_shoreline\"]]\n",
    "test_scale = X[[\"year\",\"ghsl_pop_density\",\"landcover_crops_fraction\",\"landcover_urban_fraction\",\"landcover_water_permanent_10km_fraction\",\"landcover_water_seasonal_10km_fraction\",\"nighttime_lights\",\"dist_to_capital\",\"dist_to_shoreline\"]]"
   ]
  },
  {
   "cell_type": "code",
   "execution_count": 8,
   "id": "51064a28",
   "metadata": {},
   "outputs": [],
   "source": [
    "X[\"Year\"] = 2022 \n",
    "X[\"Year_New\"] = X[\"Year\"] - X[\"year\"]"
   ]
  },
  {
   "cell_type": "code",
   "execution_count": 9,
   "id": "321548f2",
   "metadata": {},
   "outputs": [],
   "source": [
    "X = X.drop([\"year\",\"Year\"],axis=1)\n",
    "X.head()"
   ]
  },
  {
   "cell_type": "code",
   "execution_count": 10,
   "id": "84971638",
   "metadata": {},
   "outputs": [
    {
     "data": {
      "image/png": "[encoded data removed]",
      "text/plain": [
       "<Figure size 720x720 with 9 Axes>"
      ]
     },
     "metadata": {
      "needs_background": "light"
     },
     "output_type": "display_data"
    }
   ],
   "source": [
    "plt.figure(figsize=(10,10))\n",
    "c = 1\n",
    "scale = X[[\"year\",\"ghsl_pop_density\",\"landcover_crops_fraction\",\"landcover_urban_fraction\",\"landcover_water_permanent_10km_fraction\",\"landcover_water_seasonal_10km_fraction\",\"nighttime_lights\",\"dist_to_capital\",\"dist_to_shoreline\"]]\n",
    "for i in scale.columns:\n",
    "    plt.subplot(3,3,c)\n",
    "    sns.kdeplot(X[i])\n",
    "    c = c + 1\n",
    "plt.show()"
   ]
  },
  {
   "cell_type": "code",
   "execution_count": 11,
   "id": "3c3cf403",
   "metadata": {},
   "outputs": [],
   "source": [
    "from sklearn.preprocessing import MinMaxScaler\n",
    "scaler = MinMaxScaler()\n",
    "test[[\"year\",\"ghsl_pop_density\",\"landcover_crops_fraction\",\"landcover_urban_fraction\",\"landcover_water_permanent_10km_fraction\",\"landcover_water_seasonal_10km_fraction\",\"nighttime_lights\",\"dist_to_capital\",\"dist_to_shoreline\"]] = scaler.fit_transform(test[[\"year\",\"ghsl_pop_density\",\"landcover_crops_fraction\",\"landcover_urban_fraction\",\"landcover_water_permanent_10km_fraction\",\"landcover_water_seasonal_10km_fraction\",\"nighttime_lights\",\"dist_to_capital\",\"dist_to_shoreline\"]])\n",
    "X[[\"year\",\"ghsl_pop_density\",\"landcover_crops_fraction\",\"landcover_urban_fraction\",\"landcover_water_permanent_10km_fraction\",\"landcover_water_seasonal_10km_fraction\",\"nighttime_lights\",\"dist_to_capital\",\"dist_to_shoreline\"]] = scaler.fit_transform(X[[\"year\",\"ghsl_pop_density\",\"landcover_crops_fraction\",\"landcover_urban_fraction\",\"landcover_water_permanent_10km_fraction\",\"landcover_water_seasonal_10km_fraction\",\"nighttime_lights\",\"dist_to_capital\",\"dist_to_shoreline\"]])"
   ]
  },
  {
   "cell_type": "code",
   "execution_count": 12,
   "id": "ac463722",
   "metadata": {},
   "outputs": [],
   "source": [
    "from sklearn.preprocessing import LabelEncoder\n",
    "le = LabelEncoder()\n",
    "X[\"country\"] = le.fit_transform(X[\"country\"])\n",
    "X[\"urban_or_rural\"] = le.fit_transform(X[\"urban_or_rural\"])"
   ]
  },
  {
   "cell_type": "code",
   "execution_count": 13,
   "id": "9d033f54",
   "metadata": {},
   "outputs": [],
   "source": [
    "test[\"country\"] = le.fit_transform(test[\"country\"])\n",
    "test[\"urban_or_rural\"] = le.fit_transform(test[\"urban_or_rural\"])"
   ]
  },
  {
   "cell_type": "code",
   "execution_count": 13,
   "id": "7961b565",
   "metadata": {},
   "outputs": [
    {
     "data": {
      "text/plain": [
       "<AxesSubplot:>"
      ]
     },
     "execution_count": 13,
     "metadata": {},
     "output_type": "execute_result"
    },
    {
     "data": {
      "image/png": "[encoded data removed]",
      "text/plain": [
       "<Figure size 1080x1080 with 1 Axes>"
      ]
     },
     "metadata": {
      "needs_background": "light"
     },
     "output_type": "display_data"
    }
   ],
   "source": [
    "from sklearn.tree import ExtraTreeRegressor\n",
    "plt.figure(figsize=(15,15))\n",
    "etr = ExtraTreeRegressor()\n",
    "etr.fit(X,y)\n",
    "ft = etr.feature_importances_\n",
    "ft = pd.Series(ft,index=X.columns)\n",
    "ft.plot(kind=\"barh\")"
   ]
  },
  {
   "cell_type": "code",
   "execution_count": null,
   "id": "6f1b697b",
   "metadata": {},
   "outputs": [],
   "source": [
    "Mo"
   ]
  },
  {
   "cell_type": "code",
   "execution_count": 14,
   "id": "bacc9a03",
   "metadata": {},
   "outputs": [],
   "source": [
    "from sklearn.model_selection import KFold,cross_val_score\n",
    "from sklearn.linear_model import LinearRegression\n",
    "from sklearn.tree import DecisionTreeRegressor\n",
    "from sklearn.ensemble import RandomForestRegressor\n",
    "from sklearn.svm import SVR\n",
    "from sklearn.neighbors import KNeighborsRegressor\n",
    "from xgboost import XGBRegressor\n",
    "from catboost import CatBoostRegressor\n",
    "from lightgbm import LGBMRegressor\n",
    "lr = LinearRegression()\n",
    "dtr = DecisionTreeRegressor()\n",
    "rfr = RandomForestRegressor()\n",
    "svm = SVR()\n",
    "knn = KNeighborsRegressor()\n",
    "xgb = XGBRegressor()\n",
    "lgb = LGBMRegressor()\n",
    "cbr = CatBoostRegressor(silent=True)\n",
    "md = {\n",
    "    \"Name\": [\"linerRegression\",\"DecisionTree\",\"RandomForest\",\"SVM\",\"KNN\",\"XGB\",\"LGBM\",\"CatBoost\"],\n",
    "    \"Model\":[lr,dtr,rfr,svm,knn,xgb,lgb,cbr]\n",
    "}"
   ]
  },
  {
   "cell_type": "code",
   "execution_count": 91,
   "id": "df74a7ef",
   "metadata": {},
   "outputs": [
    {
     "name": "stderr",
     "output_type": "stream",
     "text": [
      "100%|████████████████████████████████████████████████████████████████████████████████████| 8/8 [11:18<00:00, 84.83s/it]\n"
     ]
    },
    {
     "data": {
      "text/html": [
       "<div>\n",
       "<style scoped>\n",
       "    .dataframe tbody tr th:only-of-type {\n",
       "        vertical-align: middle;\n",
       "    }\n",
       "\n",
       "    .dataframe tbody tr th {\n",
       "        vertical-align: top;\n",
       "    }\n",
       "\n",
       "    .dataframe thead th {\n",
       "        text-align: right;\n",
       "    }\n",
       "</style>\n",
       "<table border=\"1\" class=\"dataframe\">\n",
       "  <thead>\n",
       "    <tr style=\"text-align: right;\">\n",
       "      <th></th>\n",
       "      <th>Model</th>\n",
       "      <th>Score</th>\n",
       "    </tr>\n",
       "  </thead>\n",
       "  <tbody>\n",
       "    <tr>\n",
       "      <th>0</th>\n",
       "      <td>linerRegression</td>\n",
       "      <td>0.627136</td>\n",
       "    </tr>\n",
       "    <tr>\n",
       "      <th>1</th>\n",
       "      <td>DecisionTree</td>\n",
       "      <td>0.603817</td>\n",
       "    </tr>\n",
       "    <tr>\n",
       "      <th>2</th>\n",
       "      <td>RandomForest</td>\n",
       "      <td>0.793506</td>\n",
       "    </tr>\n",
       "    <tr>\n",
       "      <th>3</th>\n",
       "      <td>SVM</td>\n",
       "      <td>0.714160</td>\n",
       "    </tr>\n",
       "    <tr>\n",
       "      <th>4</th>\n",
       "      <td>KNN</td>\n",
       "      <td>0.754227</td>\n",
       "    </tr>\n",
       "    <tr>\n",
       "      <th>5</th>\n",
       "      <td>XGB</td>\n",
       "      <td>0.792265</td>\n",
       "    </tr>\n",
       "    <tr>\n",
       "      <th>6</th>\n",
       "      <td>LGBM</td>\n",
       "      <td>0.801750</td>\n",
       "    </tr>\n",
       "    <tr>\n",
       "      <th>7</th>\n",
       "      <td>CatBoost</td>\n",
       "      <td>0.806454</td>\n",
       "    </tr>\n",
       "  </tbody>\n",
       "</table>\n",
       "</div>"
      ],
      "text/plain": [
       "             Model     Score\n",
       "0  linerRegression  0.627136\n",
       "1     DecisionTree  0.603817\n",
       "2     RandomForest  0.793506\n",
       "3              SVM  0.714160\n",
       "4              KNN  0.754227\n",
       "5              XGB  0.792265\n",
       "6             LGBM  0.801750\n",
       "7         CatBoost  0.806454"
      ]
     },
     "execution_count": 91,
     "metadata": {},
     "output_type": "execute_result"
    }
   ],
   "source": [
    "cont = []\n",
    "from tqdm import tqdm\n",
    "def val():\n",
    "    kf = KFold(6)\n",
    "    for i,j in tqdm(np.array(pd.DataFrame(md))):\n",
    "        cvs = cross_val_score(j,X,y,cv=kf)\n",
    "        cont.append([i,np.mean(cvs)])\n",
    "    score = pd.DataFrame(cont)\n",
    "    score = score.rename({0:\"Model\",1:\"Score\"},axis=1)\n",
    "    return score\n",
    "val()"
   ]
  },
  {
   "cell_type": "code",
   "execution_count": 14,
   "id": "2f28dc5f",
   "metadata": {},
   "outputs": [],
   "source": [
    "from sklearn.model_selection import train_test_split as tts\n",
    "from sklearn.metrics import r2_score,mean_squared_error as mse\n",
    "X_train,X_test,y_train,y_test = tts(X,y,test_size=0.2,random_state=2020)"
   ]
  },
  {
   "cell_type": "code",
   "execution_count": 21,
   "id": "775f5865",
   "metadata": {},
   "outputs": [
    {
     "name": "stderr",
     "output_type": "stream",
     "text": [
      "100%|████████████████████████████████████████████████████████████████████████████████████| 8/8 [01:43<00:00, 12.92s/it]\n"
     ]
    },
    {
     "data": {
      "text/html": [
       "<div>\n",
       "<style scoped>\n",
       "    .dataframe tbody tr th:only-of-type {\n",
       "        vertical-align: middle;\n",
       "    }\n",
       "\n",
       "    .dataframe tbody tr th {\n",
       "        vertical-align: top;\n",
       "    }\n",
       "\n",
       "    .dataframe thead th {\n",
       "        text-align: right;\n",
       "    }\n",
       "</style>\n",
       "<table border=\"1\" class=\"dataframe\">\n",
       "  <thead>\n",
       "    <tr style=\"text-align: right;\">\n",
       "      <th></th>\n",
       "      <th>Model</th>\n",
       "      <th>Score</th>\n",
       "      <th>RMSE</th>\n",
       "    </tr>\n",
       "  </thead>\n",
       "  <tbody>\n",
       "    <tr>\n",
       "      <th>7</th>\n",
       "      <td>CatBoost</td>\n",
       "      <td>0.810719</td>\n",
       "      <td>0.085379</td>\n",
       "    </tr>\n",
       "    <tr>\n",
       "      <th>6</th>\n",
       "      <td>LGBM</td>\n",
       "      <td>0.804436</td>\n",
       "      <td>0.086784</td>\n",
       "    </tr>\n",
       "    <tr>\n",
       "      <th>2</th>\n",
       "      <td>RandomForest</td>\n",
       "      <td>0.794224</td>\n",
       "      <td>0.089021</td>\n",
       "    </tr>\n",
       "    <tr>\n",
       "      <th>5</th>\n",
       "      <td>XGB</td>\n",
       "      <td>0.794186</td>\n",
       "      <td>0.089029</td>\n",
       "    </tr>\n",
       "    <tr>\n",
       "      <th>4</th>\n",
       "      <td>KNN</td>\n",
       "      <td>0.764361</td>\n",
       "      <td>0.095262</td>\n",
       "    </tr>\n",
       "    <tr>\n",
       "      <th>3</th>\n",
       "      <td>SVM</td>\n",
       "      <td>0.660529</td>\n",
       "      <td>0.114340</td>\n",
       "    </tr>\n",
       "    <tr>\n",
       "      <th>0</th>\n",
       "      <td>linerRegression</td>\n",
       "      <td>0.631530</td>\n",
       "      <td>0.119123</td>\n",
       "    </tr>\n",
       "    <tr>\n",
       "      <th>1</th>\n",
       "      <td>DecisionTree</td>\n",
       "      <td>0.598228</td>\n",
       "      <td>0.124390</td>\n",
       "    </tr>\n",
       "  </tbody>\n",
       "</table>\n",
       "</div>"
      ],
      "text/plain": [
       "             Model     Score      RMSE\n",
       "7         CatBoost  0.810719  0.085379\n",
       "6             LGBM  0.804436  0.086784\n",
       "2     RandomForest  0.794224  0.089021\n",
       "5              XGB  0.794186  0.089029\n",
       "4              KNN  0.764361  0.095262\n",
       "3              SVM  0.660529  0.114340\n",
       "0  linerRegression  0.631530  0.119123\n",
       "1     DecisionTree  0.598228  0.124390"
      ]
     },
     "execution_count": 21,
     "metadata": {},
     "output_type": "execute_result"
    }
   ],
   "source": [
    "def modelling():\n",
    "    model = []\n",
    "    for i,j in tqdm(np.array(pd.DataFrame(md))):\n",
    "        j.fit(X_train,y_train)\n",
    "        pred = j.predict(X_test)\n",
    "        score = r2_score(y_test,pred)\n",
    "        rmse = np.sqrt(mse(y_test,pred))\n",
    "        model.append([i,score,rmse])\n",
    "    score = pd.DataFrame(model)\n",
    "    score = score.rename({0:\"Model\",1:\"Score\",2:\"RMSE\"},axis=1)\n",
    "    return score.sort_values(by=\"RMSE\",ascending=True)\n",
    "modelling()"
   ]
  },
  {
   "cell_type": "code",
   "execution_count": 19,
   "id": "1e2384d2",
   "metadata": {},
   "outputs": [],
   "source": [
    "from sklearn.model_selection import GridSearchCV\n",
    "from lightgbm import LGBMRegressor\n",
    "model = LGBMRegressor()\n",
    "prm = {\n",
    "    'depth' : [6,8,10],\n",
    "    'learning_rate' : [0.01,0.05,0.1],\n",
    "    'n_estimators':[30,50,100],\n",
    "}\n",
    "gsv = GridSearchCV(estimator=model,param_grid=prm,verbose=4)\n",
    "gsv.fit(X_train,y_train)\n",
    "gsv.best_params_"
   ]
  },
  {
   "cell_type": "code",
   "execution_count": 435,
   "id": "c7398dea",
   "metadata": {},
   "outputs": [
    {
     "name": "stdout",
     "output_type": "stream",
     "text": [
      "Score:  0.809931204805776\n",
      "RMSE:  0.007319870085621507\n"
     ]
    }
   ],
   "source": [
    "model = LGBMRegressor(boosting_type=\"dart\",\n",
    "                     max_depth=0,\n",
    "                     n_estimators=1000\n",
    "                     )\n",
    "model.fit(X_train,y_train)\n",
    "pred = model.predict(X_test)\n",
    "print(\"Score: \",r2_score(y_test,pred))\n",
    "print(\"RMSE: \",np.mean(mse(y_test,pred)))"
   ]
  },
  {
   "cell_type": "code",
   "execution_count": 409,
   "id": "72f21307",
   "metadata": {},
   "outputs": [
    {
     "name": "stdout",
     "output_type": "stream",
     "text": [
      "Score:  0.8012859422898675\n",
      "RMSE:  0.007454685699496107\n"
     ]
    }
   ],
   "source": [
    "cb = CatBoostRegressor(depth=10,\n",
    "                      learning_rate=0.05,\n",
    "                      n_estimators=400,\n",
    "                       silent=True\n",
    "                      )\n",
    "cb.fit(X_train,y_train)\n",
    "pred = cb.predict(X_test)\n",
    "print(\"Score: \",r2_score(y_test,pred))\n",
    "print(\"RMSE: \",np.mean(mse(y_test,pred)))"
   ]
  },
  {
   "cell_type": "code",
   "execution_count": 410,
   "id": "7a88e2f4",
   "metadata": {},
   "outputs": [],
   "source": [
    "predict = cb.predict(test)\n",
    "tst = {\"ID\":ID,\"Target\":predict}\n",
    "tst = pd.DataFrame(tst)\n",
    "tst.to_csv(\"first.csv\",index=False)"
   ]
  }
 ],
 "metadata": {
  "kernelspec": {
   "display_name": "Python 3 (ipykernel)",
   "language": "python",
   "name": "python3"
  },
  "language_info": {
   "codemirror_mode": {
    "name": "ipython",
    "version": 3
   },
   "file_extension": ".py",
   "mimetype": "text/x-python",
   "name": "python",
   "nbconvert_exporter": "python",
   "pygments_lexer": "ipython3",
   "version": "3.8.12"
  }
 },
 "nbformat": 4,
 "nbformat_minor": 5
}
